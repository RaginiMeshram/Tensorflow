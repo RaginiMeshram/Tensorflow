{
  "nbformat": 4,
  "nbformat_minor": 0,
  "metadata": {
    "colab": {
      "name": "DR_training_30_Nov.ipynb",
      "provenance": [],
      "include_colab_link": true
    },
    "kernelspec": {
      "name": "python3",
      "display_name": "Python 3"
    },
    "accelerator": "GPU"
  },
  "cells": [
    {
      "cell_type": "markdown",
      "metadata": {
        "id": "view-in-github",
        "colab_type": "text"
      },
      "source": [
        "<a href=\"https://colab.research.google.com/github/RaginiMeshram/Tensorflow/blob/master/DR_training_30_Nov.ipynb\" target=\"_parent\"><img src=\"https://colab.research.google.com/assets/colab-badge.svg\" alt=\"Open In Colab\"/></a>"
      ]
    },
    {
      "cell_type": "code",
      "metadata": {
        "id": "_OGolo1gno7M",
        "colab_type": "code",
        "colab": {}
      },
      "source": [
        "import os\n",
        "import h5py\n",
        "import numpy as np\n",
        "from PIL import Image\n",
        "from matplotlib import  pyplot as plt\n",
        "%matplotlib inline"
      ],
      "execution_count": 0,
      "outputs": []
    },
    {
      "cell_type": "code",
      "metadata": {
        "id": "18F1dJdjKUGV",
        "colab_type": "code",
        "colab": {
          "base_uri": "https://localhost:8080/",
          "height": 122
        },
        "outputId": "2c49f910-d5c6-422b-db4c-fc3b08342bd7"
      },
      "source": [
        "from google.colab import drive\n",
        "drive.mount('/content/drive')"
      ],
      "execution_count": 2,
      "outputs": [
        {
          "output_type": "stream",
          "text": [
            "Go to this URL in a browser: https://accounts.google.com/o/oauth2/auth?client_id=947318989803-6bn6qk8qdgf4n4g3pfee6491hc0brc4i.apps.googleusercontent.com&redirect_uri=urn%3aietf%3awg%3aoauth%3a2.0%3aoob&response_type=code&scope=email%20https%3a%2f%2fwww.googleapis.com%2fauth%2fdocs.test%20https%3a%2f%2fwww.googleapis.com%2fauth%2fdrive%20https%3a%2f%2fwww.googleapis.com%2fauth%2fdrive.photos.readonly%20https%3a%2f%2fwww.googleapis.com%2fauth%2fpeopleapi.readonly\n",
            "\n",
            "Enter your authorization code:\n",
            "··········\n",
            "Mounted at /content/drive\n"
          ],
          "name": "stdout"
        }
      ]
    },
    {
      "cell_type": "code",
      "metadata": {
        "id": "KQXq9O47ny6g",
        "colab_type": "code",
        "outputId": "071b7718-e556-477d-f2bc-09782f8cf8c3",
        "colab": {
          "base_uri": "https://localhost:8080/",
          "height": 34
        }
      },
      "source": [
        "os.getcwd()"
      ],
      "execution_count": 3,
      "outputs": [
        {
          "output_type": "execute_result",
          "data": {
            "text/plain": [
              "'/content'"
            ]
          },
          "metadata": {
            "tags": []
          },
          "execution_count": 3
        }
      ]
    },
    {
      "cell_type": "code",
      "metadata": {
        "id": "ptEIVVmmO25A",
        "colab_type": "code",
        "colab": {}
      },
      "source": [
        "import os\n",
        "os.chdir('/content/drive/My Drive/Colab Notebooks/')"
      ],
      "execution_count": 0,
      "outputs": []
    },
    {
      "cell_type": "code",
      "metadata": {
        "id": "Lw4BpJoqO7C4",
        "colab_type": "code",
        "colab": {
          "base_uri": "https://localhost:8080/",
          "height": 34
        },
        "outputId": "0537a502-3ad6-473a-f486-2a78ff4351b9"
      },
      "source": [
        "!pwd"
      ],
      "execution_count": 7,
      "outputs": [
        {
          "output_type": "stream",
          "text": [
            "/content/drive/My Drive/Colab Notebooks\n"
          ],
          "name": "stdout"
        }
      ]
    },
    {
      "cell_type": "code",
      "metadata": {
        "id": "xcKQZFcbn1Co",
        "colab_type": "code",
        "outputId": "27ff28a3-1f7d-4c71-d084-89915d694790",
        "colab": {
          "base_uri": "https://localhost:8080/",
          "height": 85
        }
      },
      "source": [
        "os.listdir('/content/drive/My Drive/Colab Notebooks/')"
      ],
      "execution_count": 10,
      "outputs": [
        {
          "output_type": "execute_result",
          "data": {
            "text/plain": [
              "['Untitled',\n",
              " 'DR_training_30_Nov.ipynb',\n",
              " 'More_DR_patches_with_grading.zip',\n",
              " 'More_DR_patches_with_grading']"
            ]
          },
          "metadata": {
            "tags": []
          },
          "execution_count": 10
        }
      ]
    },
    {
      "cell_type": "code",
      "metadata": {
        "id": "Dk2B1mH6OatE",
        "colab_type": "code",
        "colab": {}
      },
      "source": [
        "\n",
        "# This is for extracting the files\n",
        "import zipfile\n",
        "path_to_zip_file = 'More_DR_patches_with_grading.zip'\n",
        "directory_to_extract_to = '/content/drive/My Drive/Colab Notebooks/'\n",
        "zip_ref = zipfile.ZipFile(path_to_zip_file, 'r')\n",
        "zip_ref.extractall(directory_to_extract_to)\n",
        "zip_ref.close()"
      ],
      "execution_count": 0,
      "outputs": []
    },
    {
      "cell_type": "code",
      "metadata": {
        "id": "FUhfZbVoSnGp",
        "colab_type": "code",
        "colab": {}
      },
      "source": [
        "PREPROCESSED_DATA_FOLDER= \"/content/drive/My Drive/Colab Notebooks/More_DR_patches_with_grading\""
      ],
      "execution_count": 0,
      "outputs": []
    },
    {
      "cell_type": "code",
      "metadata": {
        "id": "kShLkDX0TEOm",
        "colab_type": "code",
        "colab": {
          "base_uri": "https://localhost:8080/",
          "height": 97
        },
        "outputId": "f1bb9648-2424-4da2-9502-9d4807052bf3"
      },
      "source": [
        "import glob\n",
        "import ntpath\n",
        "import cv2\n",
        "import numpy as np\n",
        "\n",
        "# CNN MODEL\n",
        "from keras.utils.np_utils import to_categorical # convert to one-hot-encoding\n",
        "from keras.models import Sequential\n",
        "from keras.layers import Dense, Dropout, Flatten, Conv2D, MaxPool2D, GlobalMaxPooling2D\n",
        "from keras.optimizers import RMSprop\n",
        "from keras.preprocessing.image import ImageDataGenerator\n",
        "from keras.optimizers import Adam"
      ],
      "execution_count": 12,
      "outputs": [
        {
          "output_type": "stream",
          "text": [
            "Using TensorFlow backend.\n"
          ],
          "name": "stderr"
        },
        {
          "output_type": "display_data",
          "data": {
            "text/html": [
              "<p style=\"color: red;\">\n",
              "The default version of TensorFlow in Colab will soon switch to TensorFlow 2.x.<br>\n",
              "We recommend you <a href=\"https://www.tensorflow.org/guide/migrate\" target=\"_blank\">upgrade</a> now \n",
              "or ensure your notebook will continue to use TensorFlow 1.x via the <code>%tensorflow_version 1.x</code> magic:\n",
              "<a href=\"https://colab.research.google.com/notebooks/tensorflow_version.ipynb\" target=\"_blank\">more info</a>.</p>\n"
            ],
            "text/plain": [
              "<IPython.core.display.HTML object>"
            ]
          },
          "metadata": {
            "tags": []
          }
        }
      ]
    },
    {
      "cell_type": "code",
      "metadata": {
        "id": "yk11MgXVTHL6",
        "colab_type": "code",
        "colab": {}
      },
      "source": [
        "images = []\n",
        "classes = []\n",
        "\n",
        "imgNone = 0\n",
        "imgCnt = 0\n",
        "\n",
        "for classFolderPath in os.listdir(PREPROCESSED_DATA_FOLDER):\n",
        "    \n",
        "    pattern = os.path.join(PREPROCESSED_DATA_FOLDER, classFolderPath, \"*.tif\")\n",
        "    \n",
        "    for imagePath in glob.glob( pattern ):\n",
        "\n",
        "        img = cv2.imread(imagePath, cv2.IMREAD_COLOR)\n",
        "        \n",
        "        # if the file contain any missig value ignore it\n",
        "        if img is None:\n",
        "            imgNone += 1\n",
        "            continue\n",
        "            \n",
        "        imgCnt += 1\n",
        "        \n",
        "        images.append( img )\n",
        "        classes.append(classFolderPath)"
      ],
      "execution_count": 0,
      "outputs": []
    },
    {
      "cell_type": "code",
      "metadata": {
        "id": "n_f2YVWATTlT",
        "colab_type": "code",
        "colab": {}
      },
      "source": [
        "def resize_images(img):\n",
        "\n",
        "  img = np.array(img).astype(np.uint8)\n",
        "  #print(img.dtype)\n",
        "  res = cv2.resize(img,(224,224), interpolation = cv2.INTER_CUBIC)\n",
        "  return res\n",
        "#resized=[]\n",
        "#for image in images:\n",
        "#  ressized= resize_images(images[image])"
      ],
      "execution_count": 0,
      "outputs": []
    },
    {
      "cell_type": "code",
      "metadata": {
        "id": "dNb0PkAWU5BP",
        "colab_type": "code",
        "colab": {}
      },
      "source": [
        "#save resized images into images.\n",
        "images = [resize_images(img) for img in images]"
      ],
      "execution_count": 0,
      "outputs": []
    },
    {
      "cell_type": "code",
      "metadata": {
        "id": "HwNzwt0JU7d2",
        "colab_type": "code",
        "colab": {}
      },
      "source": [
        "images = np.array(images)\n",
        "classes = np.array(classes)"
      ],
      "execution_count": 0,
      "outputs": []
    },
    {
      "cell_type": "code",
      "metadata": {
        "id": "oFM90mSNU8bu",
        "colab_type": "code",
        "colab": {}
      },
      "source": [
        "import sys \n",
        "import os\n",
        "from keras.layers import *\n",
        "from keras.optimizers import *\n",
        "from keras.applications import *\n",
        "from keras.models import Model\n",
        "from keras.preprocessing.image import ImageDataGenerator\n",
        "from keras.callbacks import ModelCheckpoint, EarlyStopping\n",
        "from keras import backend as k\n",
        "import keras\n",
        "from keras.callbacks import TensorBoard\n",
        "from keras.applications.mobilenet import MobileNet\n",
        "\n",
        "# fix seed for reproducible results (only works on CPU, not GPU)\n",
        "seed = 9\n",
        "np.random.seed(seed=seed)\n",
        "tf.set_random_seed(seed=seed)"
      ],
      "execution_count": 0,
      "outputs": []
    },
    {
      "cell_type": "code",
      "metadata": {
        "id": "jfTU9SDWU_Sm",
        "colab_type": "code",
        "colab": {}
      },
      "source": [
        "images = np.array(images)\n",
        "classes = np.array(classes)\n",
        "# Label encoder\n",
        "from sklearn.preprocessing import LabelBinarizer\n",
        "enc = LabelBinarizer()\n",
        "encodedLabels = enc.fit_transform(classes)"
      ],
      "execution_count": 0,
      "outputs": []
    },
    {
      "cell_type": "code",
      "metadata": {
        "id": "6tsCrsWzVQcM",
        "colab_type": "code",
        "colab": {}
      },
      "source": [
        "# Spliting data into training and testing set\n",
        "from sklearn.model_selection import train_test_split\n",
        "X_train, X_test, y_train, y_test = train_test_split(images, encodedLabels, test_size=0.2, random_state=80)"
      ],
      "execution_count": 0,
      "outputs": []
    },
    {
      "cell_type": "code",
      "metadata": {
        "id": "jZJloSdSVSz1",
        "colab_type": "code",
        "colab": {
          "base_uri": "https://localhost:8080/",
          "height": 34
        },
        "outputId": "ac7d6b49-d6aa-4d04-9efc-1d76fbc8f870"
      },
      "source": [
        "X_train.shape"
      ],
      "execution_count": 25,
      "outputs": [
        {
          "output_type": "execute_result",
          "data": {
            "text/plain": [
              "(2443, 224, 224, 3)"
            ]
          },
          "metadata": {
            "tags": []
          },
          "execution_count": 25
        }
      ]
    },
    {
      "cell_type": "code",
      "metadata": {
        "id": "qbSzIeThVZ5W",
        "colab_type": "code",
        "colab": {}
      },
      "source": [
        "\n",
        "from keras.preprocessing import image\n",
        "from keras.applications import resnet50, inception_v3, vgg16\n",
        "from keras.models import Model\n",
        "from keras.layers import Dense, GlobalAveragePooling2D, Input\n",
        "from keras.optimizers import Adam\n",
        "import numpy as np\n",
        "\n",
        "batch_size = 16\n",
        "num_classes = 4\n",
        "\n",
        "#base_model = resnet50.ResNet50\n",
        "#base_model = inception_v3.InceptionV3\n",
        "base_model = vgg16.VGG16"
      ],
      "execution_count": 0,
      "outputs": []
    },
    {
      "cell_type": "code",
      "metadata": {
        "id": "x07pH7I-VeAt",
        "colab_type": "code",
        "colab": {
          "base_uri": "https://localhost:8080/",
          "height": 479
        },
        "outputId": "a64615fe-e17a-45f9-c6e6-ffd5ee42bebf"
      },
      "source": [
        "base_model = base_model(weights='imagenet', include_top=False)\n",
        "x = base_model.output\n",
        "x = GlobalAveragePooling2D()(x)\n",
        "x = Dense(1024, activation='relu')(x)\n",
        "predictions = Dense(num_classes, activation='softmax')(x)\n",
        "model = Model(inputs=base_model.input, outputs=predictions)\n",
        "for layer in base_model.layers:\n",
        "    layer.trainable = False\n",
        "\n",
        "model.compile(loss='sparse_categorical_crossentropy',\n",
        "              optimizer=Adam(lr=0.0001),\n",
        "              metrics=['acc'])\n",
        "\n",
        "x_train = np.random.normal(loc=127, scale=127, size=(50, 224,224,3))\n",
        "y_train = np.array([0,1]*25)\n",
        "x_train = vgg16.preprocess_input(x_train)"
      ],
      "execution_count": 27,
      "outputs": [
        {
          "output_type": "stream",
          "text": [
            "WARNING:tensorflow:From /usr/local/lib/python3.6/dist-packages/keras/backend/tensorflow_backend.py:66: The name tf.get_default_graph is deprecated. Please use tf.compat.v1.get_default_graph instead.\n",
            "\n",
            "WARNING:tensorflow:From /usr/local/lib/python3.6/dist-packages/keras/backend/tensorflow_backend.py:541: The name tf.placeholder is deprecated. Please use tf.compat.v1.placeholder instead.\n",
            "\n",
            "WARNING:tensorflow:From /usr/local/lib/python3.6/dist-packages/keras/backend/tensorflow_backend.py:4432: The name tf.random_uniform is deprecated. Please use tf.random.uniform instead.\n",
            "\n",
            "WARNING:tensorflow:From /usr/local/lib/python3.6/dist-packages/keras/backend/tensorflow_backend.py:4267: The name tf.nn.max_pool is deprecated. Please use tf.nn.max_pool2d instead.\n",
            "\n",
            "Downloading data from https://github.com/fchollet/deep-learning-models/releases/download/v0.1/vgg16_weights_tf_dim_ordering_tf_kernels_notop.h5\n",
            "58892288/58889256 [==============================] - 6s 0us/step\n",
            "WARNING:tensorflow:From /usr/local/lib/python3.6/dist-packages/keras/backend/tensorflow_backend.py:190: The name tf.get_default_session is deprecated. Please use tf.compat.v1.get_default_session instead.\n",
            "\n",
            "WARNING:tensorflow:From /usr/local/lib/python3.6/dist-packages/keras/backend/tensorflow_backend.py:197: The name tf.ConfigProto is deprecated. Please use tf.compat.v1.ConfigProto instead.\n",
            "\n",
            "WARNING:tensorflow:From /usr/local/lib/python3.6/dist-packages/keras/backend/tensorflow_backend.py:203: The name tf.Session is deprecated. Please use tf.compat.v1.Session instead.\n",
            "\n",
            "WARNING:tensorflow:From /usr/local/lib/python3.6/dist-packages/keras/backend/tensorflow_backend.py:207: The name tf.global_variables is deprecated. Please use tf.compat.v1.global_variables instead.\n",
            "\n",
            "WARNING:tensorflow:From /usr/local/lib/python3.6/dist-packages/keras/backend/tensorflow_backend.py:216: The name tf.is_variable_initialized is deprecated. Please use tf.compat.v1.is_variable_initialized instead.\n",
            "\n",
            "WARNING:tensorflow:From /usr/local/lib/python3.6/dist-packages/keras/backend/tensorflow_backend.py:223: The name tf.variables_initializer is deprecated. Please use tf.compat.v1.variables_initializer instead.\n",
            "\n",
            "WARNING:tensorflow:From /usr/local/lib/python3.6/dist-packages/keras/optimizers.py:793: The name tf.train.Optimizer is deprecated. Please use tf.compat.v1.train.Optimizer instead.\n",
            "\n",
            "WARNING:tensorflow:From /usr/local/lib/python3.6/dist-packages/keras/backend/tensorflow_backend.py:3622: The name tf.log is deprecated. Please use tf.math.log instead.\n",
            "\n"
          ],
          "name": "stdout"
        }
      ]
    },
    {
      "cell_type": "code",
      "metadata": {
        "id": "s_-A8YabV-8k",
        "colab_type": "code",
        "colab": {
          "base_uri": "https://localhost:8080/",
          "height": 901
        },
        "outputId": "fd60bb2a-3e6b-48e9-e2f1-8e51b30970d6"
      },
      "source": [
        "model.summary()"
      ],
      "execution_count": 29,
      "outputs": [
        {
          "output_type": "stream",
          "text": [
            "Model: \"model_1\"\n",
            "_________________________________________________________________\n",
            "Layer (type)                 Output Shape              Param #   \n",
            "=================================================================\n",
            "input_1 (InputLayer)         (None, None, None, 3)     0         \n",
            "_________________________________________________________________\n",
            "block1_conv1 (Conv2D)        (None, None, None, 64)    1792      \n",
            "_________________________________________________________________\n",
            "block1_conv2 (Conv2D)        (None, None, None, 64)    36928     \n",
            "_________________________________________________________________\n",
            "block1_pool (MaxPooling2D)   (None, None, None, 64)    0         \n",
            "_________________________________________________________________\n",
            "block2_conv1 (Conv2D)        (None, None, None, 128)   73856     \n",
            "_________________________________________________________________\n",
            "block2_conv2 (Conv2D)        (None, None, None, 128)   147584    \n",
            "_________________________________________________________________\n",
            "block2_pool (MaxPooling2D)   (None, None, None, 128)   0         \n",
            "_________________________________________________________________\n",
            "block3_conv1 (Conv2D)        (None, None, None, 256)   295168    \n",
            "_________________________________________________________________\n",
            "block3_conv2 (Conv2D)        (None, None, None, 256)   590080    \n",
            "_________________________________________________________________\n",
            "block3_conv3 (Conv2D)        (None, None, None, 256)   590080    \n",
            "_________________________________________________________________\n",
            "block3_pool (MaxPooling2D)   (None, None, None, 256)   0         \n",
            "_________________________________________________________________\n",
            "block4_conv1 (Conv2D)        (None, None, None, 512)   1180160   \n",
            "_________________________________________________________________\n",
            "block4_conv2 (Conv2D)        (None, None, None, 512)   2359808   \n",
            "_________________________________________________________________\n",
            "block4_conv3 (Conv2D)        (None, None, None, 512)   2359808   \n",
            "_________________________________________________________________\n",
            "block4_pool (MaxPooling2D)   (None, None, None, 512)   0         \n",
            "_________________________________________________________________\n",
            "block5_conv1 (Conv2D)        (None, None, None, 512)   2359808   \n",
            "_________________________________________________________________\n",
            "block5_conv2 (Conv2D)        (None, None, None, 512)   2359808   \n",
            "_________________________________________________________________\n",
            "block5_conv3 (Conv2D)        (None, None, None, 512)   2359808   \n",
            "_________________________________________________________________\n",
            "block5_pool (MaxPooling2D)   (None, None, None, 512)   0         \n",
            "_________________________________________________________________\n",
            "global_average_pooling2d_1 ( (None, 512)               0         \n",
            "_________________________________________________________________\n",
            "dense_1 (Dense)              (None, 1024)              525312    \n",
            "_________________________________________________________________\n",
            "dense_2 (Dense)              (None, 4)                 4100      \n",
            "=================================================================\n",
            "Total params: 15,244,100\n",
            "Trainable params: 529,412\n",
            "Non-trainable params: 14,714,688\n",
            "_________________________________________________________________\n"
          ],
          "name": "stdout"
        }
      ]
    },
    {
      "cell_type": "code",
      "metadata": {
        "id": "x6yRjKPsWMDL",
        "colab_type": "code",
        "colab": {}
      },
      "source": [
        "from keras.callbacks import TensorBoard\n",
        "tbCallBack = TensorBoard(log_dir='/content/drive/My Drive/Colab Notebooks/', histogram_freq=1,\n",
        "                         write_graph=True,\n",
        "                         write_grads=True,\n",
        "                         batch_size=batch_size,\n",
        "                         write_images=True)"
      ],
      "execution_count": 0,
      "outputs": []
    },
    {
      "cell_type": "code",
      "metadata": {
        "id": "ncEwwReQXKI5",
        "colab_type": "code",
        "colab": {
          "base_uri": "https://localhost:8080/",
          "height": 1000
        },
        "outputId": "1046d450-073f-4ab9-8bc1-8195bef82390"
      },
      "source": [
        "print(model.evaluate(x_train, y_train, batch_size=batch_size, verbose=0))\n",
        "model.fit(x_train, y_train,\n",
        "          epochs=100,\n",
        "          batch_size=batch_size,\n",
        "          shuffle=False,\n",
        "          validation_data=(x_train, y_train),\n",
        "           callbacks=[tbCallBack])"
      ],
      "execution_count": 32,
      "outputs": [
        {
          "output_type": "stream",
          "text": [
            "[1.7030588483810425, 0.5]\n",
            "WARNING:tensorflow:From /usr/local/lib/python3.6/dist-packages/tensorflow_core/python/ops/math_grad.py:1424: where (from tensorflow.python.ops.array_ops) is deprecated and will be removed in a future version.\n",
            "Instructions for updating:\n",
            "Use tf.where in 2.0, which has the same broadcast rule as np.where\n",
            "WARNING:tensorflow:From /usr/local/lib/python3.6/dist-packages/keras/backend/tensorflow_backend.py:1033: The name tf.assign_add is deprecated. Please use tf.compat.v1.assign_add instead.\n",
            "\n",
            "WARNING:tensorflow:From /usr/local/lib/python3.6/dist-packages/keras/backend/tensorflow_backend.py:1020: The name tf.assign is deprecated. Please use tf.compat.v1.assign instead.\n",
            "\n",
            "Train on 50 samples, validate on 50 samples\n",
            "WARNING:tensorflow:From /usr/local/lib/python3.6/dist-packages/keras/callbacks.py:1120: The name tf.summary.histogram is deprecated. Please use tf.compat.v1.summary.histogram instead.\n",
            "\n",
            "WARNING:tensorflow:From /usr/local/lib/python3.6/dist-packages/keras/callbacks.py:1112: The name tf.summary.image is deprecated. Please use tf.compat.v1.summary.image instead.\n",
            "\n",
            "WARNING:tensorflow:From /usr/local/lib/python3.6/dist-packages/keras/callbacks.py:1122: The name tf.summary.merge_all is deprecated. Please use tf.compat.v1.summary.merge_all instead.\n",
            "\n",
            "WARNING:tensorflow:From /usr/local/lib/python3.6/dist-packages/keras/callbacks.py:1125: The name tf.summary.FileWriter is deprecated. Please use tf.compat.v1.summary.FileWriter instead.\n",
            "\n",
            "Epoch 1/100\n",
            "50/50 [==============================] - 1s 15ms/step - loss: 1.2043 - acc: 0.5600 - val_loss: 0.7685 - val_acc: 0.5400\n",
            "WARNING:tensorflow:From /usr/local/lib/python3.6/dist-packages/keras/callbacks.py:1265: The name tf.Summary is deprecated. Please use tf.compat.v1.Summary instead.\n",
            "\n",
            "Epoch 2/100\n",
            "50/50 [==============================] - 1s 13ms/step - loss: 0.7060 - acc: 0.5600 - val_loss: 0.7469 - val_acc: 0.5400\n",
            "Epoch 3/100\n",
            "50/50 [==============================] - 1s 13ms/step - loss: 0.7022 - acc: 0.5800 - val_loss: 0.6250 - val_acc: 0.7000\n",
            "Epoch 4/100\n",
            "50/50 [==============================] - 1s 13ms/step - loss: 0.6272 - acc: 0.6600 - val_loss: 0.5885 - val_acc: 0.7000\n",
            "Epoch 5/100\n",
            "50/50 [==============================] - 1s 12ms/step - loss: 0.5950 - acc: 0.6800 - val_loss: 0.5884 - val_acc: 0.7000\n",
            "Epoch 6/100\n",
            "50/50 [==============================] - 1s 13ms/step - loss: 0.5727 - acc: 0.7000 - val_loss: 0.5552 - val_acc: 0.6800\n",
            "Epoch 7/100\n",
            "50/50 [==============================] - 1s 12ms/step - loss: 0.5479 - acc: 0.7000 - val_loss: 0.5294 - val_acc: 0.7200\n",
            "Epoch 8/100\n",
            "50/50 [==============================] - 1s 12ms/step - loss: 0.5299 - acc: 0.7200 - val_loss: 0.5084 - val_acc: 0.7800\n",
            "Epoch 9/100\n",
            "50/50 [==============================] - 1s 12ms/step - loss: 0.5035 - acc: 0.7800 - val_loss: 0.4892 - val_acc: 0.8000\n",
            "Epoch 10/100\n",
            "50/50 [==============================] - 1s 13ms/step - loss: 0.4837 - acc: 0.8200 - val_loss: 0.4726 - val_acc: 0.8200\n",
            "Epoch 11/100\n",
            "50/50 [==============================] - 1s 12ms/step - loss: 0.4686 - acc: 0.8200 - val_loss: 0.4512 - val_acc: 0.8600\n",
            "Epoch 12/100\n",
            "50/50 [==============================] - 1s 13ms/step - loss: 0.4482 - acc: 0.8600 - val_loss: 0.4347 - val_acc: 0.8800\n",
            "Epoch 13/100\n",
            "50/50 [==============================] - 1s 13ms/step - loss: 0.4323 - acc: 0.9000 - val_loss: 0.4199 - val_acc: 0.9000\n",
            "Epoch 14/100\n",
            "50/50 [==============================] - 1s 13ms/step - loss: 0.4167 - acc: 0.9000 - val_loss: 0.4043 - val_acc: 0.9000\n",
            "Epoch 15/100\n",
            "50/50 [==============================] - 1s 12ms/step - loss: 0.4011 - acc: 0.9000 - val_loss: 0.3909 - val_acc: 0.9200\n",
            "Epoch 16/100\n",
            "50/50 [==============================] - 1s 13ms/step - loss: 0.3881 - acc: 0.9200 - val_loss: 0.3759 - val_acc: 0.9200\n",
            "Epoch 17/100\n",
            "50/50 [==============================] - 1s 13ms/step - loss: 0.3733 - acc: 0.9200 - val_loss: 0.3630 - val_acc: 0.9200\n",
            "Epoch 18/100\n",
            "50/50 [==============================] - 1s 12ms/step - loss: 0.3608 - acc: 0.9200 - val_loss: 0.3505 - val_acc: 0.9400\n",
            "Epoch 19/100\n",
            "50/50 [==============================] - 1s 12ms/step - loss: 0.3483 - acc: 0.9400 - val_loss: 0.3384 - val_acc: 0.9600\n",
            "Epoch 20/100\n",
            "50/50 [==============================] - 1s 12ms/step - loss: 0.3365 - acc: 0.9800 - val_loss: 0.3278 - val_acc: 0.9800\n",
            "Epoch 21/100\n",
            "50/50 [==============================] - 1s 12ms/step - loss: 0.3260 - acc: 0.9800 - val_loss: 0.3172 - val_acc: 0.9800\n",
            "Epoch 22/100\n",
            "50/50 [==============================] - 1s 13ms/step - loss: 0.3154 - acc: 0.9800 - val_loss: 0.3073 - val_acc: 0.9800\n",
            "Epoch 23/100\n",
            "50/50 [==============================] - 1s 12ms/step - loss: 0.3057 - acc: 0.9800 - val_loss: 0.2976 - val_acc: 1.0000\n",
            "Epoch 24/100\n",
            "50/50 [==============================] - 1s 12ms/step - loss: 0.2959 - acc: 1.0000 - val_loss: 0.2883 - val_acc: 1.0000\n",
            "Epoch 25/100\n",
            "50/50 [==============================] - 1s 12ms/step - loss: 0.2868 - acc: 1.0000 - val_loss: 0.2793 - val_acc: 1.0000\n",
            "Epoch 26/100\n",
            "50/50 [==============================] - 1s 12ms/step - loss: 0.2778 - acc: 1.0000 - val_loss: 0.2708 - val_acc: 1.0000\n",
            "Epoch 27/100\n",
            "50/50 [==============================] - 1s 12ms/step - loss: 0.2695 - acc: 1.0000 - val_loss: 0.2626 - val_acc: 1.0000\n",
            "Epoch 28/100\n",
            "50/50 [==============================] - 1s 13ms/step - loss: 0.2613 - acc: 1.0000 - val_loss: 0.2549 - val_acc: 1.0000\n",
            "Epoch 29/100\n",
            "50/50 [==============================] - 1s 12ms/step - loss: 0.2538 - acc: 1.0000 - val_loss: 0.2477 - val_acc: 1.0000\n",
            "Epoch 30/100\n",
            "50/50 [==============================] - 1s 12ms/step - loss: 0.2467 - acc: 1.0000 - val_loss: 0.2408 - val_acc: 1.0000\n",
            "Epoch 31/100\n",
            "50/50 [==============================] - 1s 12ms/step - loss: 0.2398 - acc: 1.0000 - val_loss: 0.2340 - val_acc: 1.0000\n",
            "Epoch 32/100\n",
            "50/50 [==============================] - 1s 12ms/step - loss: 0.2330 - acc: 1.0000 - val_loss: 0.2275 - val_acc: 1.0000\n",
            "Epoch 33/100\n",
            "50/50 [==============================] - 1s 13ms/step - loss: 0.2265 - acc: 1.0000 - val_loss: 0.2212 - val_acc: 1.0000\n",
            "Epoch 34/100\n",
            "50/50 [==============================] - 1s 12ms/step - loss: 0.2203 - acc: 1.0000 - val_loss: 0.2152 - val_acc: 1.0000\n",
            "Epoch 35/100\n",
            "50/50 [==============================] - 1s 12ms/step - loss: 0.2143 - acc: 1.0000 - val_loss: 0.2093 - val_acc: 1.0000\n",
            "Epoch 36/100\n",
            "50/50 [==============================] - 1s 12ms/step - loss: 0.2085 - acc: 1.0000 - val_loss: 0.2036 - val_acc: 1.0000\n",
            "Epoch 37/100\n",
            "50/50 [==============================] - 1s 12ms/step - loss: 0.2029 - acc: 1.0000 - val_loss: 0.1981 - val_acc: 1.0000\n",
            "Epoch 38/100\n",
            "50/50 [==============================] - 1s 12ms/step - loss: 0.1974 - acc: 1.0000 - val_loss: 0.1928 - val_acc: 1.0000\n",
            "Epoch 39/100\n",
            "50/50 [==============================] - 1s 13ms/step - loss: 0.1921 - acc: 1.0000 - val_loss: 0.1876 - val_acc: 1.0000\n",
            "Epoch 40/100\n",
            "50/50 [==============================] - 1s 12ms/step - loss: 0.1870 - acc: 1.0000 - val_loss: 0.1827 - val_acc: 1.0000\n",
            "Epoch 41/100\n",
            "50/50 [==============================] - 1s 13ms/step - loss: 0.1821 - acc: 1.0000 - val_loss: 0.1781 - val_acc: 1.0000\n",
            "Epoch 42/100\n",
            "50/50 [==============================] - 1s 12ms/step - loss: 0.1775 - acc: 1.0000 - val_loss: 0.1736 - val_acc: 1.0000\n",
            "Epoch 43/100\n",
            "50/50 [==============================] - 1s 12ms/step - loss: 0.1730 - acc: 1.0000 - val_loss: 0.1692 - val_acc: 1.0000\n",
            "Epoch 44/100\n",
            "50/50 [==============================] - 1s 12ms/step - loss: 0.1687 - acc: 1.0000 - val_loss: 0.1650 - val_acc: 1.0000\n",
            "Epoch 45/100\n",
            "50/50 [==============================] - 1s 12ms/step - loss: 0.1645 - acc: 1.0000 - val_loss: 0.1609 - val_acc: 1.0000\n",
            "Epoch 46/100\n",
            "50/50 [==============================] - 1s 12ms/step - loss: 0.1604 - acc: 1.0000 - val_loss: 0.1570 - val_acc: 1.0000\n",
            "Epoch 47/100\n",
            "50/50 [==============================] - 1s 12ms/step - loss: 0.1565 - acc: 1.0000 - val_loss: 0.1532 - val_acc: 1.0000\n",
            "Epoch 48/100\n",
            "50/50 [==============================] - 1s 12ms/step - loss: 0.1527 - acc: 1.0000 - val_loss: 0.1494 - val_acc: 1.0000\n",
            "Epoch 49/100\n",
            "50/50 [==============================] - 1s 12ms/step - loss: 0.1491 - acc: 1.0000 - val_loss: 0.1459 - val_acc: 1.0000\n",
            "Epoch 50/100\n",
            "50/50 [==============================] - 1s 12ms/step - loss: 0.1454 - acc: 1.0000 - val_loss: 0.1424 - val_acc: 1.0000\n",
            "Epoch 51/100\n",
            "50/50 [==============================] - 1s 12ms/step - loss: 0.1420 - acc: 1.0000 - val_loss: 0.1390 - val_acc: 1.0000\n",
            "Epoch 52/100\n",
            "50/50 [==============================] - 1s 12ms/step - loss: 0.1386 - acc: 1.0000 - val_loss: 0.1357 - val_acc: 1.0000\n",
            "Epoch 53/100\n",
            "50/50 [==============================] - 1s 12ms/step - loss: 0.1354 - acc: 1.0000 - val_loss: 0.1326 - val_acc: 1.0000\n",
            "Epoch 54/100\n",
            "50/50 [==============================] - 1s 13ms/step - loss: 0.1322 - acc: 1.0000 - val_loss: 0.1295 - val_acc: 1.0000\n",
            "Epoch 55/100\n",
            "50/50 [==============================] - 1s 12ms/step - loss: 0.1292 - acc: 1.0000 - val_loss: 0.1265 - val_acc: 1.0000\n",
            "Epoch 56/100\n",
            "50/50 [==============================] - 1s 12ms/step - loss: 0.1262 - acc: 1.0000 - val_loss: 0.1236 - val_acc: 1.0000\n",
            "Epoch 57/100\n",
            "50/50 [==============================] - 1s 12ms/step - loss: 0.1233 - acc: 1.0000 - val_loss: 0.1208 - val_acc: 1.0000\n",
            "Epoch 58/100\n",
            "50/50 [==============================] - 1s 12ms/step - loss: 0.1205 - acc: 1.0000 - val_loss: 0.1181 - val_acc: 1.0000\n",
            "Epoch 59/100\n",
            "50/50 [==============================] - 1s 12ms/step - loss: 0.1178 - acc: 1.0000 - val_loss: 0.1154 - val_acc: 1.0000\n",
            "Epoch 60/100\n",
            "50/50 [==============================] - 1s 12ms/step - loss: 0.1151 - acc: 1.0000 - val_loss: 0.1128 - val_acc: 1.0000\n",
            "Epoch 61/100\n",
            "50/50 [==============================] - 1s 12ms/step - loss: 0.1125 - acc: 1.0000 - val_loss: 0.1103 - val_acc: 1.0000\n",
            "Epoch 62/100\n",
            "50/50 [==============================] - 1s 13ms/step - loss: 0.1100 - acc: 1.0000 - val_loss: 0.1079 - val_acc: 1.0000\n",
            "Epoch 63/100\n",
            "50/50 [==============================] - 1s 12ms/step - loss: 0.1076 - acc: 1.0000 - val_loss: 0.1055 - val_acc: 1.0000\n",
            "Epoch 64/100\n",
            "50/50 [==============================] - 1s 12ms/step - loss: 0.1053 - acc: 1.0000 - val_loss: 0.1032 - val_acc: 1.0000\n",
            "Epoch 65/100\n",
            "50/50 [==============================] - 1s 12ms/step - loss: 0.1030 - acc: 1.0000 - val_loss: 0.1010 - val_acc: 1.0000\n",
            "Epoch 66/100\n",
            "50/50 [==============================] - 1s 12ms/step - loss: 0.1007 - acc: 1.0000 - val_loss: 0.0988 - val_acc: 1.0000\n",
            "Epoch 67/100\n",
            "50/50 [==============================] - 1s 13ms/step - loss: 0.0986 - acc: 1.0000 - val_loss: 0.0967 - val_acc: 1.0000\n",
            "Epoch 68/100\n",
            "50/50 [==============================] - 1s 12ms/step - loss: 0.0965 - acc: 1.0000 - val_loss: 0.0947 - val_acc: 1.0000\n",
            "Epoch 69/100\n",
            "50/50 [==============================] - 1s 12ms/step - loss: 0.0945 - acc: 1.0000 - val_loss: 0.0927 - val_acc: 1.0000\n",
            "Epoch 70/100\n",
            "50/50 [==============================] - 1s 12ms/step - loss: 0.0925 - acc: 1.0000 - val_loss: 0.0907 - val_acc: 1.0000\n",
            "Epoch 71/100\n",
            "50/50 [==============================] - 1s 13ms/step - loss: 0.0906 - acc: 1.0000 - val_loss: 0.0889 - val_acc: 1.0000\n",
            "Epoch 72/100\n",
            "50/50 [==============================] - 1s 12ms/step - loss: 0.0887 - acc: 1.0000 - val_loss: 0.0870 - val_acc: 1.0000\n",
            "Epoch 73/100\n",
            "50/50 [==============================] - 1s 12ms/step - loss: 0.0869 - acc: 1.0000 - val_loss: 0.0853 - val_acc: 1.0000\n",
            "Epoch 74/100\n",
            "50/50 [==============================] - 1s 12ms/step - loss: 0.0851 - acc: 1.0000 - val_loss: 0.0835 - val_acc: 1.0000\n",
            "Epoch 75/100\n",
            "50/50 [==============================] - 1s 12ms/step - loss: 0.0833 - acc: 1.0000 - val_loss: 0.0818 - val_acc: 1.0000\n",
            "Epoch 76/100\n",
            "50/50 [==============================] - 1s 13ms/step - loss: 0.0817 - acc: 1.0000 - val_loss: 0.0802 - val_acc: 1.0000\n",
            "Epoch 77/100\n",
            "50/50 [==============================] - 1s 12ms/step - loss: 0.0800 - acc: 1.0000 - val_loss: 0.0786 - val_acc: 1.0000\n",
            "Epoch 78/100\n",
            "50/50 [==============================] - 1s 12ms/step - loss: 0.0784 - acc: 1.0000 - val_loss: 0.0771 - val_acc: 1.0000\n",
            "Epoch 79/100\n",
            "50/50 [==============================] - 1s 12ms/step - loss: 0.0769 - acc: 1.0000 - val_loss: 0.0755 - val_acc: 1.0000\n",
            "Epoch 80/100\n",
            "50/50 [==============================] - 1s 12ms/step - loss: 0.0754 - acc: 1.0000 - val_loss: 0.0741 - val_acc: 1.0000\n",
            "Epoch 81/100\n",
            "50/50 [==============================] - 1s 12ms/step - loss: 0.0740 - acc: 1.0000 - val_loss: 0.0727 - val_acc: 1.0000\n",
            "Epoch 82/100\n",
            "50/50 [==============================] - 1s 12ms/step - loss: 0.0725 - acc: 1.0000 - val_loss: 0.0713 - val_acc: 1.0000\n",
            "Epoch 83/100\n",
            "50/50 [==============================] - 1s 12ms/step - loss: 0.0712 - acc: 1.0000 - val_loss: 0.0699 - val_acc: 1.0000\n",
            "Epoch 84/100\n",
            "50/50 [==============================] - 1s 12ms/step - loss: 0.0698 - acc: 1.0000 - val_loss: 0.0686 - val_acc: 1.0000\n",
            "Epoch 85/100\n",
            "50/50 [==============================] - 1s 12ms/step - loss: 0.0685 - acc: 1.0000 - val_loss: 0.0673 - val_acc: 1.0000\n",
            "Epoch 86/100\n",
            "50/50 [==============================] - 1s 12ms/step - loss: 0.0672 - acc: 1.0000 - val_loss: 0.0661 - val_acc: 1.0000\n",
            "Epoch 87/100\n",
            "50/50 [==============================] - 1s 12ms/step - loss: 0.0660 - acc: 1.0000 - val_loss: 0.0649 - val_acc: 1.0000\n",
            "Epoch 88/100\n",
            "50/50 [==============================] - 1s 12ms/step - loss: 0.0648 - acc: 1.0000 - val_loss: 0.0637 - val_acc: 1.0000\n",
            "Epoch 89/100\n",
            "50/50 [==============================] - 1s 12ms/step - loss: 0.0636 - acc: 1.0000 - val_loss: 0.0625 - val_acc: 1.0000\n",
            "Epoch 90/100\n",
            "50/50 [==============================] - 1s 12ms/step - loss: 0.0624 - acc: 1.0000 - val_loss: 0.0614 - val_acc: 1.0000\n",
            "Epoch 91/100\n",
            "50/50 [==============================] - 1s 12ms/step - loss: 0.0613 - acc: 1.0000 - val_loss: 0.0603 - val_acc: 1.0000\n",
            "Epoch 92/100\n",
            "50/50 [==============================] - 1s 13ms/step - loss: 0.0602 - acc: 1.0000 - val_loss: 0.0592 - val_acc: 1.0000\n",
            "Epoch 93/100\n",
            "50/50 [==============================] - 1s 12ms/step - loss: 0.0591 - acc: 1.0000 - val_loss: 0.0581 - val_acc: 1.0000\n",
            "Epoch 94/100\n",
            "50/50 [==============================] - 1s 13ms/step - loss: 0.0580 - acc: 1.0000 - val_loss: 0.0571 - val_acc: 1.0000\n",
            "Epoch 95/100\n",
            "50/50 [==============================] - 1s 13ms/step - loss: 0.0570 - acc: 1.0000 - val_loss: 0.0561 - val_acc: 1.0000\n",
            "Epoch 96/100\n",
            "50/50 [==============================] - 1s 12ms/step - loss: 0.0560 - acc: 1.0000 - val_loss: 0.0552 - val_acc: 1.0000\n",
            "Epoch 97/100\n",
            "50/50 [==============================] - 1s 12ms/step - loss: 0.0551 - acc: 1.0000 - val_loss: 0.0542 - val_acc: 1.0000\n",
            "Epoch 98/100\n",
            "50/50 [==============================] - 1s 12ms/step - loss: 0.0541 - acc: 1.0000 - val_loss: 0.0533 - val_acc: 1.0000\n",
            "Epoch 99/100\n",
            "50/50 [==============================] - 1s 12ms/step - loss: 0.0532 - acc: 1.0000 - val_loss: 0.0523 - val_acc: 1.0000\n",
            "Epoch 100/100\n",
            "50/50 [==============================] - 1s 12ms/step - loss: 0.0522 - acc: 1.0000 - val_loss: 0.0515 - val_acc: 1.0000\n"
          ],
          "name": "stdout"
        },
        {
          "output_type": "execute_result",
          "data": {
            "text/plain": [
              "<keras.callbacks.History at 0x7fcc75fe5e80>"
            ]
          },
          "metadata": {
            "tags": []
          },
          "execution_count": 32
        }
      ]
    }
  ]
}